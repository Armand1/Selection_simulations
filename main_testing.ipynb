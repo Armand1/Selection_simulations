{
 "cells": [
  {
   "cell_type": "code",
   "execution_count": 1,
   "metadata": {
    "collapsed": true
   },
   "outputs": [],
   "source": [
    "from Selection import Bentley\n",
    "from Selection import FrequencyDependent\n",
    "import pandas\n",
    "from scipy.stats import logistic\n",
    "from joblib import Parallel, delayed\n",
    "import multiprocessing\n",
    "import random\n",
    "import numpy as np\n",
    "import pandas\n",
    "import collections"
   ]
  },
  {
   "cell_type": "code",
   "execution_count": 57,
   "metadata": {},
   "outputs": [
    {
     "data": {
      "text/plain": [
       "array([2, 9, 9, 7, 0, 0, 5, 5, 0, 2, 3, 5, 0, 6, 1, 3, 5, 8, 6, 8, 4, 8, 0,\n",
       "       9, 3, 1, 0, 1, 2, 8, 1, 9, 9, 4, 7, 5, 9, 3, 2, 1, 0, 3, 9, 6, 4, 1,\n",
       "       7, 7, 7, 7, 7, 6, 8, 0, 6, 6, 1, 0, 1, 9, 7, 8, 8, 2, 5, 3, 9, 0, 3,\n",
       "       8, 7, 4, 0, 5, 8, 2, 5, 2, 6, 5, 4, 2, 4, 6, 7, 3, 4, 0, 3, 8, 3, 6,\n",
       "       0, 8, 3, 7, 9, 3, 0, 1])"
      ]
     },
     "execution_count": 57,
     "metadata": {},
     "output_type": "execute_result"
    }
   ],
   "source": [
    "np.random.choice(10, size=100, p=np.repeat(0.1, 10))"
   ]
  },
  {
   "cell_type": "code",
   "execution_count": 23,
   "metadata": {},
   "outputs": [
    {
     "data": {
      "text/plain": [
       "array([1, 0, 9, 7, 0, 0, 7, 8, 0, 8])"
      ]
     },
     "execution_count": 23,
     "metadata": {},
     "output_type": "execute_result"
    }
   ],
   "source": [
    "np.random.randint(0, 10, size=10)"
   ]
  },
  {
   "cell_type": "code",
   "execution_count": 26,
   "metadata": {
    "collapsed": true
   },
   "outputs": [],
   "source": [
    "persons = np.random.randint(0, 10, size=10)\n",
    "lNumber = []\n",
    "for people in persons:\n",
    "    lNumber.append(people)"
   ]
  },
  {
   "cell_type": "code",
   "execution_count": 31,
   "metadata": {},
   "outputs": [
    {
     "data": {
      "text/plain": [
       "0    False\n",
       "1    False\n",
       "2    False\n",
       "3     True\n",
       "4    False\n",
       "5    False\n",
       "6    False\n",
       "7    False\n",
       "8    False\n",
       "9    False\n",
       "Name: number, dtype: bool"
      ]
     },
     "execution_count": 31,
     "metadata": {},
     "output_type": "execute_result"
    }
   ],
   "source": [
    "lTemp = pandas.Series(lNumber)\n",
    "lTemp = lTemp.to_frame()\n",
    "lTemp['number'] = lTemp.index\n",
    "lTemp['number'].isin([3])"
   ]
  },
  {
   "cell_type": "code",
   "execution_count": 36,
   "metadata": {},
   "outputs": [],
   "source": [
    "import collections\n",
    "cnt = collections.Counter()\n",
    "for number in lNumber:\n",
    "    cnt[number] += 1"
   ]
  },
  {
   "cell_type": "code",
   "execution_count": 58,
   "metadata": {},
   "outputs": [
    {
     "data": {
      "text/plain": [
       "0.030303030303030304"
      ]
     },
     "execution_count": 58,
     "metadata": {},
     "output_type": "execute_result"
    }
   ],
   "source": [
    "float(cnt[2]) / 33"
   ]
  },
  {
   "cell_type": "code",
   "execution_count": 28,
   "metadata": {},
   "outputs": [],
   "source": [
    "aPopulation = Bentley.createInitialPopulation(10, 3)"
   ]
  },
  {
   "cell_type": "code",
   "execution_count": 29,
   "metadata": {},
   "outputs": [
    {
     "data": {
      "text/plain": [
       "6"
      ]
     },
     "execution_count": 29,
     "metadata": {},
     "output_type": "execute_result"
    }
   ],
   "source": [
    "sum(aPopulation.getAllFreq())"
   ]
  },
  {
   "cell_type": "code",
   "execution_count": 23,
   "metadata": {},
   "outputs": [
    {
     "data": {
      "text/plain": [
       "100"
      ]
     },
     "execution_count": 23,
     "metadata": {},
     "output_type": "execute_result"
    }
   ],
   "source": [
    "aPopulation.getPopSize()"
   ]
  },
  {
   "cell_type": "code",
   "execution_count": 34,
   "metadata": {},
   "outputs": [],
   "source": [
    "cnt=collections.Counter()\n",
    "for people in aPopulation.getIndividuals():\n",
    "            a_number = people.getNumber()\n",
    "            cnt[a_number] += 1"
   ]
  },
  {
   "cell_type": "code",
   "execution_count": 39,
   "metadata": {},
   "outputs": [
    {
     "data": {
      "text/plain": [
       "10"
      ]
     },
     "execution_count": 39,
     "metadata": {},
     "output_type": "execute_result"
    }
   ],
   "source": [
    "sum(cnt.values())"
   ]
  },
  {
   "cell_type": "code",
   "execution_count": 40,
   "metadata": {},
   "outputs": [
    {
     "data": {
      "text/plain": [
       "3"
      ]
     },
     "execution_count": 40,
     "metadata": {},
     "output_type": "execute_result"
    }
   ],
   "source": [
    "cnt[1]"
   ]
  },
  {
   "cell_type": "code",
   "execution_count": 12,
   "metadata": {},
   "outputs": [],
   "source": [
    "aPopulation = Bentley.createInitialPopulation(20, 3)\n",
    "bPopulation = FrequencyDependent.populationReproduceFrequency(aPopulation, 0.004, 100)"
   ]
  },
  {
   "cell_type": "code",
   "execution_count": 13,
   "metadata": {},
   "outputs": [
    {
     "data": {
      "text/plain": [
       "Counter({1: 5, 2: 10, 3: 5})"
      ]
     },
     "execution_count": 13,
     "metadata": {},
     "output_type": "execute_result"
    }
   ],
   "source": [
    "aPopulation.getAllFreq()"
   ]
  },
  {
   "cell_type": "code",
   "execution_count": 14,
   "metadata": {},
   "outputs": [
    {
     "data": {
      "text/plain": [
       "Counter({1: 1, 2: 14, 3: 5})"
      ]
     },
     "execution_count": 14,
     "metadata": {},
     "output_type": "execute_result"
    }
   ],
   "source": [
    "bPopulation.getAllFreq()"
   ]
  },
  {
   "cell_type": "code",
   "execution_count": 15,
   "metadata": {},
   "outputs": [
    {
     "data": {
      "text/plain": [
       "array([ 0.03684211,  0.03684211,  0.03684211,  0.06315789,  0.06315789,\n",
       "        0.06315789,  0.03684211,  0.03684211,  0.06315789,  0.03684211,\n",
       "        0.03684211,  0.06315789,  0.06315789,  0.06315789,  0.03684211,\n",
       "        0.06315789,  0.03684211,  0.06315789,  0.03684211,  0.06315789])"
      ]
     },
     "execution_count": 15,
     "metadata": {},
     "output_type": "execute_result"
    }
   ],
   "source": [
    "FrequencyDependent.calculate_weight(aPopulation, 10)"
   ]
  },
  {
   "cell_type": "code",
   "execution_count": 5,
   "metadata": {},
   "outputs": [
    {
     "data": {
      "text/plain": [
       "Counter({1: 7, 2: 9, 3: 4})"
      ]
     },
     "execution_count": 5,
     "metadata": {},
     "output_type": "execute_result"
    }
   ],
   "source": [
    "aPopulation.getAllFreq()"
   ]
  },
  {
   "cell_type": "code",
   "execution_count": 11,
   "metadata": {},
   "outputs": [
    {
     "name": "stdout",
     "output_type": "stream",
     "text": [
      "9.0\n",
      "9.0\n",
      "9.0\n",
      "4.0\n",
      "7.0\n",
      "7.0\n",
      "7.0\n",
      "9.0\n",
      "4.0\n",
      "9.0\n",
      "7.0\n",
      "9.0\n",
      "4.0\n",
      "7.0\n",
      "7.0\n",
      "4.0\n",
      "9.0\n",
      "7.0\n",
      "9.0\n",
      "9.0\n"
     ]
    }
   ],
   "source": [
    "aBeta = 10\n",
    "lParents = aPopulation.getIndividuals()\n",
    "aPopSize = aPopulation.getPopSize()\n",
    "cnt = aPopulation.getAllFreq()\n",
    "parent_weight = np.zeros(aPopSize)\n",
    "for i, parent in enumerate(lParents):\n",
    "    parent_weight[i] = 1 + (float(cnt[parent]) / aPopSize) * aBeta"
   ]
  },
  {
   "cell_type": "code",
   "execution_count": 9,
   "metadata": {},
   "outputs": [
    {
     "data": {
      "text/plain": [
       "array([ 1.,  1.,  1.,  1.,  1.,  1.,  1.,  1.,  1.,  1.,  1.,  1.,  1.,\n",
       "        1.,  1.,  1.,  1.,  1.,  1.,  1.])"
      ]
     },
     "execution_count": 9,
     "metadata": {},
     "output_type": "execute_result"
    }
   ],
   "source": [
    "parent_weight"
   ]
  },
  {
   "cell_type": "code",
   "execution_count": null,
   "metadata": {
    "collapsed": true
   },
   "outputs": [],
   "source": []
  }
 ],
 "metadata": {
  "kernelspec": {
   "display_name": "Python 2",
   "language": "python",
   "name": "python2"
  },
  "language_info": {
   "codemirror_mode": {
    "name": "ipython",
    "version": 2
   },
   "file_extension": ".py",
   "mimetype": "text/x-python",
   "name": "python",
   "nbconvert_exporter": "python",
   "pygments_lexer": "ipython2",
   "version": "2.7.14"
  }
 },
 "nbformat": 4,
 "nbformat_minor": 2
}
